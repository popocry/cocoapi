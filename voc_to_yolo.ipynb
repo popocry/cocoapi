{
 "cells": [
  {
   "cell_type": "code",
   "execution_count": 5,
   "metadata": {
    "scrolled": true
   },
   "outputs": [
    {
     "name": "stdout",
     "output_type": "stream",
     "text": [
      "result/Annotations\\000000000074.xml\n"
     ]
    },
    {
     "ename": "FileNotFoundError",
     "evalue": "[Errno 2] No such file or directory: '/result/images\\\\000000000074.txt'",
     "output_type": "error",
     "traceback": [
      "\u001b[1;31m---------------------------------------------------------------------------\u001b[0m",
      "\u001b[1;31mFileNotFoundError\u001b[0m                         Traceback (most recent call last)",
      "\u001b[1;32m<ipython-input-5-a19414ec631d>\u001b[0m in \u001b[0;36m<module>\u001b[1;34m\u001b[0m\n\u001b[0;32m     82\u001b[0m     \u001b[0mcount\u001b[0m\u001b[1;33m=\u001b[0m\u001b[1;36m0\u001b[0m\u001b[1;33m\u001b[0m\u001b[1;33m\u001b[0m\u001b[0m\n\u001b[0;32m     83\u001b[0m     \u001b[1;32mfor\u001b[0m \u001b[0mxml_path\u001b[0m \u001b[1;32min\u001b[0m \u001b[0mxml_path_list\u001b[0m\u001b[1;33m:\u001b[0m\u001b[1;33m\u001b[0m\u001b[1;33m\u001b[0m\u001b[0m\n\u001b[1;32m---> 84\u001b[1;33m         \u001b[0mvoc2yolo\u001b[0m\u001b[1;33m(\u001b[0m\u001b[0mxml_path\u001b[0m\u001b[1;33m)\u001b[0m\u001b[1;33m\u001b[0m\u001b[1;33m\u001b[0m\u001b[0m\n\u001b[0m\u001b[0;32m     85\u001b[0m         \u001b[0mcount\u001b[0m\u001b[1;33m+=\u001b[0m\u001b[1;36m1\u001b[0m\u001b[1;33m\u001b[0m\u001b[1;33m\u001b[0m\u001b[0m\n\u001b[0;32m     86\u001b[0m \u001b[1;33m\u001b[0m\u001b[0m\n",
      "\u001b[1;32m<ipython-input-5-a19414ec631d>\u001b[0m in \u001b[0;36mvoc2yolo\u001b[1;34m(filename)\u001b[0m\n\u001b[0;32m     48\u001b[0m     \u001b[0mprint\u001b[0m\u001b[1;33m(\u001b[0m\u001b[0mfilename\u001b[0m\u001b[1;33m)\u001b[0m\u001b[1;33m\u001b[0m\u001b[1;33m\u001b[0m\u001b[0m\n\u001b[0;32m     49\u001b[0m     \u001b[0mtxt_name\u001b[0m \u001b[1;33m=\u001b[0m \u001b[0mfilename\u001b[0m\u001b[1;33m.\u001b[0m\u001b[0mreplace\u001b[0m\u001b[1;33m(\u001b[0m\u001b[1;34m\".xml\"\u001b[0m\u001b[1;33m,\u001b[0m \u001b[1;34m\".txt\"\u001b[0m\u001b[1;33m)\u001b[0m\u001b[1;33m.\u001b[0m\u001b[0mreplace\u001b[0m\u001b[1;33m(\u001b[0m\u001b[1;34m\"result/Annotations\"\u001b[0m\u001b[1;33m,\u001b[0m \u001b[1;34m\"/result/images\"\u001b[0m\u001b[1;33m)\u001b[0m\u001b[1;33m\u001b[0m\u001b[1;33m\u001b[0m\u001b[0m\n\u001b[1;32m---> 50\u001b[1;33m     \u001b[1;32mwith\u001b[0m \u001b[0mopen\u001b[0m\u001b[1;33m(\u001b[0m\u001b[0mtxt_name\u001b[0m\u001b[1;33m,\u001b[0m \u001b[1;34m\"w\"\u001b[0m\u001b[1;33m)\u001b[0m \u001b[1;32mas\u001b[0m \u001b[0mf\u001b[0m\u001b[1;33m:\u001b[0m\u001b[1;33m\u001b[0m\u001b[1;33m\u001b[0m\u001b[0m\n\u001b[0m\u001b[0;32m     51\u001b[0m         \u001b[0mf\u001b[0m\u001b[1;33m.\u001b[0m\u001b[0mwritelines\u001b[0m\u001b[1;33m(\u001b[0m\u001b[0mlines\u001b[0m\u001b[1;33m)\u001b[0m\u001b[1;33m\u001b[0m\u001b[1;33m\u001b[0m\u001b[0m\n\u001b[0;32m     52\u001b[0m \u001b[1;33m\u001b[0m\u001b[0m\n",
      "\u001b[1;31mFileNotFoundError\u001b[0m: [Errno 2] No such file or directory: '/result/images\\\\000000000074.txt'"
     ]
    }
   ],
   "source": [
    "\n",
    "#coding:utf-8\n",
    "from __future__ import print_function\n",
    " \n",
    "import os\n",
    "import random\n",
    "import glob\n",
    "import xml.etree.ElementTree as ET\n",
    " \n",
    "def xml_reader(filename):\n",
    "    \"\"\" Parse a PASCAL VOC xml file \"\"\"\n",
    "    tree = ET.parse(filename)\n",
    "    size = tree.find('size')\n",
    "    width = int(size.find('width').text)\n",
    "    height = int(size.find('height').text)\n",
    "    objects = []\n",
    "    for obj in tree.findall('object'):\n",
    "        obj_struct = {}\n",
    "        obj_struct['name'] = obj.find('name').text\n",
    "        bbox = obj.find('bndbox')\n",
    "        obj_struct['bbox'] = [int(bbox.find('xmin').text),\n",
    "                              int(bbox.find('ymin').text),\n",
    "                              int(bbox.find('xmax').text),\n",
    "                              int(bbox.find('ymax').text)]\n",
    "        objects.append(obj_struct)\n",
    "    return width, height, objects\n",
    " \n",
    " \n",
    "def voc2yolo(filename):\n",
    "    classes_dict = {}\n",
    "    with open(\"result/classes.names\") as f:\n",
    "        for idx, line in enumerate(f.readlines()):\n",
    "            class_name = line.strip()\n",
    "            classes_dict[class_name] = idx\n",
    "    \n",
    "    width, height, objects = xml_reader(filename)\n",
    " \n",
    "    lines = []\n",
    "    for obj in objects:\n",
    "        x, y, x2, y2 = obj['bbox']\n",
    "        class_name = obj['name']\n",
    "        label = classes_dict[class_name]\n",
    "        cx = (x2+x)*0.5 / width\n",
    "        cy = (y2+y)*0.5 / height\n",
    "        w = (x2-x)*1. / width\n",
    "        h = (y2-y)*1. / height\n",
    "        line = \"%s %.6f %.6f %.6f %.6f\\n\" % (label, cx, cy, w, h)\n",
    "        lines.append(line)\n",
    "    print(filename)\n",
    "    txt_name = filename.replace(\".xml\", \".txt\").replace(\"result/Annotations\", \"/result/images\")\n",
    "    with open(txt_name, \"w\") as f:\n",
    "        f.writelines(lines)\n",
    " \n",
    " \n",
    "def get_image_list(image_dir, suffix=['jpg', 'jpeg', 'JPG', 'JPEG','png']):\n",
    "    '''get all image path ends with suffix'''\n",
    "    if not os.path.exists(image_dir):\n",
    "        print(\"PATH:%s not exists\" % image_dir)\n",
    "        return []\n",
    "    imglist = []\n",
    "    for root, sdirs, files in os.walk(image_dir):\n",
    "        if not files:\n",
    "            continue\n",
    "        for filename in files:\n",
    "            filepath = r\"C:\\Users\\simon\\Desktop\\cocoapi-master\\PythonAPI\\test\" + os.path.join(root, filename) + \"\\n\"\n",
    "            if filename.split('.')[-1] in suffix:\n",
    "                imglist.append(filepath)\n",
    "    return imglist\n",
    " \n",
    " \n",
    "def imglist2file(imglist):\n",
    "    random.shuffle(imglist)\n",
    "    train_list = imglist[:-tp]\n",
    "    valid_list = imglist[-tp:]\n",
    "    with open(\"train.txt\", \"w\") as f:\n",
    "        f.writelines(train_list)\n",
    "    with open(\"valid.txt\", \"w\") as f:\n",
    "        f.writelines(valid_list)\n",
    " \n",
    " \n",
    "if __name__ == \"__main__\":\n",
    "    xml_path_list = glob.glob(\"result/Annotations/*.xml\")\n",
    "    count=0\n",
    "    for xml_path in xml_path_list:\n",
    "        voc2yolo(xml_path)\n",
    "        count+=1\n",
    "        \n",
    "    train_percent = 0.9\n",
    "    tp=int(count*train_percent)\n",
    "    tp=count-tp\n",
    "    imglist = get_image_list(\"result/images\")\n",
    "    imglist2file(imglist)"
   ]
  },
  {
   "cell_type": "code",
   "execution_count": null,
   "metadata": {},
   "outputs": [],
   "source": []
  }
 ],
 "metadata": {
  "kernelspec": {
   "display_name": "Python 3",
   "language": "python",
   "name": "python3"
  },
  "language_info": {
   "codemirror_mode": {
    "name": "ipython",
    "version": 3
   },
   "file_extension": ".py",
   "mimetype": "text/x-python",
   "name": "python",
   "nbconvert_exporter": "python",
   "pygments_lexer": "ipython3",
   "version": "3.8.5"
  }
 },
 "nbformat": 4,
 "nbformat_minor": 4
}
